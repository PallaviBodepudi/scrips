{
 "cells": [
  {
   "cell_type": "code",
   "execution_count": 15,
   "metadata": {},
   "outputs": [
    {
     "name": "stdout",
     "output_type": "stream",
     "text": [
      "# of tasks is 234\n",
      "EXCEL.EXE in r[i]\n",
      "EXCEL.EXE is Running\n"
     ]
    }
   ],
   "source": [
    "import os\n",
    "\n",
    "def getTasks(name):\n",
    "    r = os.popen('tasklist /v').read().strip().split('\\n')\n",
    "    print ('# of tasks is %s' % (len(r)))\n",
    "    for i in range(len(r)):\n",
    "        s = r[i]\n",
    "        if name in r[i]:\n",
    "            print ('%s in r[i]' %(name))\n",
    "            return r[i]\n",
    "    return []\n",
    "\n",
    "if __name__ == '__main__':\n",
    "    '''\n",
    "    This code checks tasklist, and will print the status of a code\n",
    "    '''\n",
    "\n",
    "    imgName = 'EXCEL.EXE'\n",
    "\n",
    "    notResponding = 'Not Responding'\n",
    "\n",
    "    r = getTasks(imgName)\n",
    "\n",
    "    if not r:\n",
    "        print('%s - No such process' % (imgName))        \n",
    "    elif 'Not Responding' in r:\n",
    "        print('%s is Not responding' % (imgName))        \n",
    "    else:\n",
    "        print('%s is Running' % (imgName))\n",
    "        "
   ]
  },
  {
   "cell_type": "code",
   "execution_count": null,
   "metadata": {},
   "outputs": [],
   "source": []
  }
 ],
 "metadata": {
  "kernelspec": {
   "display_name": "Python 3",
   "language": "python",
   "name": "python3"
  },
  "language_info": {
   "codemirror_mode": {
    "name": "ipython",
    "version": 3
   },
   "file_extension": ".py",
   "mimetype": "text/x-python",
   "name": "python",
   "nbconvert_exporter": "python",
   "pygments_lexer": "ipython3",
   "version": "3.7.1"
  }
 },
 "nbformat": 4,
 "nbformat_minor": 2
}
