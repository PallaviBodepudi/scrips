{
 "cells": [
  {
   "cell_type": "code",
   "execution_count": 19,
   "metadata": {},
   "outputs": [],
   "source": [
    "#Encrypt using Python\n",
    "# Read input txt file\n",
    "with open('C:/Pal/test.txt', 'rb') as f:\n",
    "         data=f.read()\n",
    "#Encrypt the data\n",
    "fernet=Fernet(key)\n",
    "encrypted=fernet.encrypt(data)\n",
    "#Write decrypted data back to file\n",
    "with open('C:/Pal/test.txt.encrypted', 'wb') as f:\n",
    "    f.write(encrypted)\n",
    "    \n",
    "#Decrypt using Python\n",
    "# Read input encrypted txt file\n",
    "with open('C:/Pal/test.txt.encrypted', 'rb') as f:\n",
    "         data=f.read()\n",
    "#Decrypt the data\n",
    "fernet=Fernet(key)\n",
    "decrypted=fernet.decrypt(data)\n",
    "#Write decrypted data back to file\n",
    "with open('C:/Pal/test.txt.decrypted', 'wb') as f:\n",
    "    f.write(decrypted)"
   ]
  },
  {
   "cell_type": "code",
   "execution_count": null,
   "metadata": {},
   "outputs": [],
   "source": []
  }
 ],
 "metadata": {
  "kernelspec": {
   "display_name": "Python 3",
   "language": "python",
   "name": "python3"
  },
  "language_info": {
   "codemirror_mode": {
    "name": "ipython",
    "version": 3
   },
   "file_extension": ".py",
   "mimetype": "text/x-python",
   "name": "python",
   "nbconvert_exporter": "python",
   "pygments_lexer": "ipython3",
   "version": "3.7.1"
  }
 },
 "nbformat": 4,
 "nbformat_minor": 2
}
